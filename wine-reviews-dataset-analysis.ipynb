{
 "cells": [
  {
   "cell_type": "markdown",
   "id": "006bad50",
   "metadata": {
    "_cell_guid": "b1076dfc-b9ad-4769-8c92-a6c4dae69d19",
    "_uuid": "8f2839f25d086af736a60e9eeb907d3b93b6e0e5",
    "papermill": {
     "duration": 0.022074,
     "end_time": "2022-03-07T07:06:55.637371",
     "exception": false,
     "start_time": "2022-03-07T07:06:55.615297",
     "status": "completed"
    },
    "tags": []
   },
   "source": [
    "# Calculate Measures of Central Tendency - Mean, Median, and Mode for the points & price columns and print their values using DataFrame Functions "
   ]
  },
  {
   "cell_type": "code",
   "execution_count": 1,
   "id": "3c0eb910",
   "metadata": {
    "execution": {
     "iopub.execute_input": "2022-03-07T07:06:55.684963Z",
     "iopub.status.busy": "2022-03-07T07:06:55.683781Z",
     "iopub.status.idle": "2022-03-07T07:06:57.080812Z",
     "shell.execute_reply": "2022-03-07T07:06:57.080051Z",
     "shell.execute_reply.started": "2022-03-07T07:00:14.053328Z"
    },
    "papermill": {
     "duration": 1.42095,
     "end_time": "2022-03-07T07:06:57.080976",
     "exception": false,
     "start_time": "2022-03-07T07:06:55.660026",
     "status": "completed"
    },
    "tags": []
   },
   "outputs": [],
   "source": [
    "#importing necessary libraries and data\n",
    "import numpy as np\n",
    "import pandas as pd\n",
    "data = pd.read_csv('../input/winereviewscsv/winemag-data_first150k.csv')"
   ]
  },
  {
   "cell_type": "code",
   "execution_count": 2,
   "id": "66373495",
   "metadata": {
    "execution": {
     "iopub.execute_input": "2022-03-07T07:06:57.137867Z",
     "iopub.status.busy": "2022-03-07T07:06:57.137126Z",
     "iopub.status.idle": "2022-03-07T07:06:57.146189Z",
     "shell.execute_reply": "2022-03-07T07:06:57.146740Z",
     "shell.execute_reply.started": "2022-03-07T07:00:15.553272Z"
    },
    "papermill": {
     "duration": 0.044267,
     "end_time": "2022-03-07T07:06:57.146913",
     "exception": false,
     "start_time": "2022-03-07T07:06:57.102646",
     "status": "completed"
    },
    "tags": []
   },
   "outputs": [
    {
     "data": {
      "text/plain": [
       "points    87.888418\n",
       "price     33.131482\n",
       "dtype: float64"
      ]
     },
     "execution_count": 2,
     "metadata": {},
     "output_type": "execute_result"
    }
   ],
   "source": [
    "#calculating mean\n",
    "data[['points','price']].mean()"
   ]
  },
  {
   "cell_type": "markdown",
   "id": "6076661f",
   "metadata": {
    "papermill": {
     "duration": 0.021052,
     "end_time": "2022-03-07T07:06:57.190202",
     "exception": false,
     "start_time": "2022-03-07T07:06:57.169150",
     "status": "completed"
    },
    "tags": []
   },
   "source": [
    "From above, you can see that the Mean or Average points ( or score) in the wine dataset is 87 which tells us  that Most Wines in the Dataset are Highly-Rated & average price of a wine bottle in the dataset is 33"
   ]
  },
  {
   "cell_type": "code",
   "execution_count": 3,
   "id": "98a6e3bf",
   "metadata": {
    "execution": {
     "iopub.execute_input": "2022-03-07T07:06:57.239544Z",
     "iopub.status.busy": "2022-03-07T07:06:57.238836Z",
     "iopub.status.idle": "2022-03-07T07:06:57.249055Z",
     "shell.execute_reply": "2022-03-07T07:06:57.248252Z",
     "shell.execute_reply.started": "2022-03-07T07:00:15.577104Z"
    },
    "papermill": {
     "duration": 0.037612,
     "end_time": "2022-03-07T07:06:57.249212",
     "exception": false,
     "start_time": "2022-03-07T07:06:57.211600",
     "status": "completed"
    },
    "tags": []
   },
   "outputs": [
    {
     "data": {
      "text/plain": [
       "points    88.0\n",
       "price     24.0\n",
       "dtype: float64"
      ]
     },
     "execution_count": 3,
     "metadata": {},
     "output_type": "execute_result"
    }
   ],
   "source": [
    "#calculating median\n",
    "data[['points','price']].median()"
   ]
  },
  {
   "cell_type": "markdown",
   "id": "eb1bb0e7",
   "metadata": {
    "papermill": {
     "duration": 0.02114,
     "end_time": "2022-03-07T07:06:57.292336",
     "exception": false,
     "start_time": "2022-03-07T07:06:57.271196",
     "status": "completed"
    },
    "tags": []
   },
   "source": [
    "From above, you can see that the Median price of a Wine bottle in the dataset is 24 which tells us that Atleast half of the \n",
    "wines in the dataset are sold for 24 or less & Median points in the dataset is 88 which tells us that Atleast half of the wines \n",
    "in the dataset received 88 or less points"
   ]
  },
  {
   "cell_type": "code",
   "execution_count": 4,
   "id": "612f2c76",
   "metadata": {
    "execution": {
     "iopub.execute_input": "2022-03-07T07:06:57.351779Z",
     "iopub.status.busy": "2022-03-07T07:06:57.350709Z",
     "iopub.status.idle": "2022-03-07T07:06:57.357806Z",
     "shell.execute_reply": "2022-03-07T07:06:57.358333Z",
     "shell.execute_reply.started": "2022-03-07T07:00:15.592738Z"
    },
    "papermill": {
     "duration": 0.043065,
     "end_time": "2022-03-07T07:06:57.358539",
     "exception": false,
     "start_time": "2022-03-07T07:06:57.315474",
     "status": "completed"
    },
    "tags": []
   },
   "outputs": [
    {
     "name": "stdout",
     "output_type": "stream",
     "text": [
      "   points  price\n",
      "0      87   20.0\n"
     ]
    }
   ],
   "source": [
    "#calculating mode\n",
    "md = data[['points','price']].mode() \n",
    "print(md) "
   ]
  },
  {
   "cell_type": "markdown",
   "id": "860fab82",
   "metadata": {
    "papermill": {
     "duration": 0.021755,
     "end_time": "2022-03-07T07:06:57.402330",
     "exception": false,
     "start_time": "2022-03-07T07:06:57.380575",
     "status": "completed"
    },
    "tags": []
   },
   "source": [
    "From above, you can see that the Mode is close to the median. Mode is defined as the value that appears \n",
    "the most frequently in our data."
   ]
  },
  {
   "cell_type": "markdown",
   "id": "fd86c8cb",
   "metadata": {
    "papermill": {
     "duration": 0.022082,
     "end_time": "2022-03-07T07:06:57.448253",
     "exception": false,
     "start_time": "2022-03-07T07:06:57.426171",
     "status": "completed"
    },
    "tags": []
   },
   "source": [
    "# Calculate Measures of Spread - Range, Standard Deviation, and Variance for the points & price columns  and print their values"
   ]
  },
  {
   "cell_type": "code",
   "execution_count": 5,
   "id": "742d7a6a",
   "metadata": {
    "execution": {
     "iopub.execute_input": "2022-03-07T07:06:57.495528Z",
     "iopub.status.busy": "2022-03-07T07:06:57.494852Z",
     "iopub.status.idle": "2022-03-07T07:06:57.545068Z",
     "shell.execute_reply": "2022-03-07T07:06:57.544324Z",
     "shell.execute_reply.started": "2022-03-07T07:00:15.617087Z"
    },
    "papermill": {
     "duration": 0.074881,
     "end_time": "2022-03-07T07:06:57.545232",
     "exception": false,
     "start_time": "2022-03-07T07:06:57.470351",
     "status": "completed"
    },
    "tags": []
   },
   "outputs": [
    {
     "name": "stdout",
     "output_type": "stream",
     "text": [
      "2296.0\n"
     ]
    }
   ],
   "source": [
    "min_price = min(data['price']) \n",
    "max_price = max(data['price']) \n",
    "price_range = max_price - min_price \n",
    "print(price_range) "
   ]
  },
  {
   "cell_type": "markdown",
   "id": "c41438fc",
   "metadata": {
    "papermill": {
     "duration": 0.022599,
     "end_time": "2022-03-07T07:06:57.590924",
     "exception": false,
     "start_time": "2022-03-07T07:06:57.568325",
     "status": "completed"
    },
    "tags": []
   },
   "source": [
    "From above, you can see that the range is 2296 which tells us that the data is extremely is spread out \n",
    "considering the Median price of a wine bottle in the dataset is 24 \n",
    "Similarly, try calculating the range for the points column"
   ]
  },
  {
   "cell_type": "code",
   "execution_count": 6,
   "id": "a4efeda6",
   "metadata": {
    "execution": {
     "iopub.execute_input": "2022-03-07T07:06:57.643813Z",
     "iopub.status.busy": "2022-03-07T07:06:57.643100Z",
     "iopub.status.idle": "2022-03-07T07:06:57.650188Z",
     "shell.execute_reply": "2022-03-07T07:06:57.649672Z",
     "shell.execute_reply.started": "2022-03-07T07:00:15.653786Z"
    },
    "papermill": {
     "duration": 0.036678,
     "end_time": "2022-03-07T07:06:57.650332",
     "exception": false,
     "start_time": "2022-03-07T07:06:57.613654",
     "status": "completed"
    },
    "tags": []
   },
   "outputs": [
    {
     "data": {
      "text/plain": [
       "points     3.222381\n",
       "price     36.322404\n",
       "dtype: float64"
      ]
     },
     "execution_count": 6,
     "metadata": {},
     "output_type": "execute_result"
    }
   ],
   "source": [
    "#calculating standard deviation\n",
    "np.std(data[['points', 'price']], axis=0)"
   ]
  },
  {
   "cell_type": "markdown",
   "id": "d965fd88",
   "metadata": {
    "papermill": {
     "duration": 0.023166,
     "end_time": "2022-03-07T07:06:57.696438",
     "exception": false,
     "start_time": "2022-03-07T07:06:57.673272",
     "status": "completed"
    },
    "tags": []
   },
   "source": [
    "Standard Deviation tells us how much the data varies from the mean \n",
    "\n",
    "• From above, you can see that the Standard Deviation for points is 3.222 which is obvious because\n",
    "points only range from 80 to 100\n",
    "\n",
    "• You can also see that the Standard Deviation for price is much higher because of its Outliers. The\n",
    "higher the standard deviation, the more spread out the data is around the mean and vice-versa."
   ]
  },
  {
   "cell_type": "code",
   "execution_count": 7,
   "id": "def958be",
   "metadata": {
    "execution": {
     "iopub.execute_input": "2022-03-07T07:06:57.748161Z",
     "iopub.status.busy": "2022-03-07T07:06:57.744469Z",
     "iopub.status.idle": "2022-03-07T07:06:57.755521Z",
     "shell.execute_reply": "2022-03-07T07:06:57.756155Z",
     "shell.execute_reply.started": "2022-03-07T07:00:15.66967Z"
    },
    "papermill": {
     "duration": 0.037097,
     "end_time": "2022-03-07T07:06:57.756327",
     "exception": false,
     "start_time": "2022-03-07T07:06:57.719230",
     "status": "completed"
    },
    "tags": []
   },
   "outputs": [
    {
     "data": {
      "text/plain": [
       "points      10.383740\n",
       "price     1319.317022\n",
       "dtype: float64"
      ]
     },
     "execution_count": 7,
     "metadata": {},
     "output_type": "execute_result"
    }
   ],
   "source": [
    "#calculating varaince\n",
    "np.var(data[['points', 'price']], axis=0) "
   ]
  },
  {
   "cell_type": "markdown",
   "id": "35881b46",
   "metadata": {
    "papermill": {
     "duration": 0.022879,
     "end_time": "2022-03-07T07:06:57.802457",
     "exception": false,
     "start_time": "2022-03-07T07:06:57.779578",
     "status": "completed"
    },
    "tags": []
   },
   "source": [
    "From above, you can see that the Variance for points & price columns are 10.383740 and 1319.317022 \n",
    "• Variance is a measure of how far each observation in the dataset is from the Mean\n",
    "• It is the Square of Standard Deviation"
   ]
  },
  {
   "cell_type": "markdown",
   "id": "cee4a08d",
   "metadata": {
    "papermill": {
     "duration": 0.022901,
     "end_time": "2022-03-07T07:06:57.848716",
     "exception": false,
     "start_time": "2022-03-07T07:06:57.825815",
     "status": "completed"
    },
    "tags": []
   },
   "source": [
    "# Obtain different summary statistics (Skewness and Kurtosis) for the points column and print their values"
   ]
  },
  {
   "cell_type": "code",
   "execution_count": 8,
   "id": "498fbbf8",
   "metadata": {
    "execution": {
     "iopub.execute_input": "2022-03-07T07:06:57.901106Z",
     "iopub.status.busy": "2022-03-07T07:06:57.898535Z",
     "iopub.status.idle": "2022-03-07T07:06:58.841951Z",
     "shell.execute_reply": "2022-03-07T07:06:58.842518Z",
     "shell.execute_reply.started": "2022-03-07T07:00:15.685721Z"
    },
    "papermill": {
     "duration": 0.97062,
     "end_time": "2022-03-07T07:06:58.842695",
     "exception": false,
     "start_time": "2022-03-07T07:06:57.872075",
     "status": "completed"
    },
    "tags": []
   },
   "outputs": [
    {
     "name": "stdout",
     "output_type": "stream",
     "text": [
      "pearson kurtosis 2.713553658335501\n",
      "pearson kurtosis -0.2864463416644991\n"
     ]
    }
   ],
   "source": [
    "from scipy.stats import kurtosis\n",
    "print(\"pearson kurtosis\", kurtosis(data['points'], fisher=False))\n",
    "print(\"pearson kurtosis\", kurtosis(data['points'], fisher=True))"
   ]
  },
  {
   "cell_type": "markdown",
   "id": "a9c59575",
   "metadata": {
    "papermill": {
     "duration": 0.02361,
     "end_time": "2022-03-07T07:06:58.890990",
     "exception": false,
     "start_time": "2022-03-07T07:06:58.867380",
     "status": "completed"
    },
    "tags": []
   },
   "source": [
    "It is the Measure of peaked-ness relative to a Gaussian shape \n",
    "scipy.stats.kurtosis(array, axis=0, fisher=True, bias=True) function calculates the kurtosis (Fisher or \n",
    "Pearson) of a data set. \n",
    "Returns Kurtosis value of the Normal Distribution for the Dataset \n",
    "High kurtosis in a data set is an indicator that data has heavy tails or outliers"
   ]
  },
  {
   "cell_type": "code",
   "execution_count": 9,
   "id": "c3e7a542",
   "metadata": {
    "execution": {
     "iopub.execute_input": "2022-03-07T07:06:58.944069Z",
     "iopub.status.busy": "2022-03-07T07:06:58.941588Z",
     "iopub.status.idle": "2022-03-07T07:06:58.949958Z",
     "shell.execute_reply": "2022-03-07T07:06:58.950527Z",
     "shell.execute_reply.started": "2022-03-07T07:00:15.701677Z"
    },
    "papermill": {
     "duration": 0.035861,
     "end_time": "2022-03-07T07:06:58.950708",
     "exception": false,
     "start_time": "2022-03-07T07:06:58.914847",
     "status": "completed"
    },
    "tags": []
   },
   "outputs": [
    {
     "data": {
      "text/plain": [
       "0.14283121423675518"
      ]
     },
     "execution_count": 9,
     "metadata": {},
     "output_type": "execute_result"
    }
   ],
   "source": [
    "from scipy.stats import skew \n",
    "skew(data['points'], axis=0)"
   ]
  },
  {
   "cell_type": "markdown",
   "id": "6fef112a",
   "metadata": {
    "papermill": {
     "duration": 0.024758,
     "end_time": "2022-03-07T07:06:59.000299",
     "exception": false,
     "start_time": "2022-03-07T07:06:58.975541",
     "status": "completed"
    },
    "tags": []
   },
   "source": [
    "From above, you can see that the skewness is 0.14 which is> 0 which indicates that it is left skewed \n",
    "Skewness is the Measure of Lack of Symmetry \n",
    "scipy.stats.skew{array, axis=O, bias=True) function calculates the skewness of the data set \n",
    "If skewness = 0, Normally Distributed \n",
    "skewness< 0, More weight in the right tail of distribution \n",
    "skewness > 0, More weight in the left tail of distribution "
   ]
  },
  {
   "cell_type": "markdown",
   "id": "b0acd286",
   "metadata": {
    "papermill": {
     "duration": 0.024392,
     "end_time": "2022-03-07T07:06:59.049215",
     "exception": false,
     "start_time": "2022-03-07T07:06:59.024823",
     "status": "completed"
    },
    "tags": []
   },
   "source": [
    "# Obtain the Z-Scores for the points column - Intermediate "
   ]
  },
  {
   "cell_type": "code",
   "execution_count": 10,
   "id": "9c67fa28",
   "metadata": {
    "execution": {
     "iopub.execute_input": "2022-03-07T07:06:59.103437Z",
     "iopub.status.busy": "2022-03-07T07:06:59.102679Z",
     "iopub.status.idle": "2022-03-07T07:06:59.116056Z",
     "shell.execute_reply": "2022-03-07T07:06:59.115349Z",
     "shell.execute_reply.started": "2022-03-07T07:00:56.183752Z"
    },
    "papermill": {
     "duration": 0.041451,
     "end_time": "2022-03-07T07:06:59.116217",
     "exception": false,
     "start_time": "2022-03-07T07:06:59.074766",
     "status": "completed"
    },
    "tags": []
   },
   "outputs": [
    {
     "name": "stdout",
     "output_type": "stream",
     "text": [
      "z-scores based on data in points column\n",
      "\n",
      "0         2.517263\n",
      "1         2.517263\n",
      "2         2.517263\n",
      "3         2.517263\n",
      "4         2.206934\n",
      "            ...   \n",
      "150925    0.965616\n",
      "150926    0.965616\n",
      "150927    0.965616\n",
      "150928    0.655286\n",
      "150929    0.655286\n",
      "Name: points, Length: 150930, dtype: float64\n"
     ]
    }
   ],
   "source": [
    "from scipy import stats\n",
    "\n",
    "z = np.abs(stats.zscore(data['points']))\n",
    "print('z-scores based on data in points column\\n')\n",
    "print(z)"
   ]
  },
  {
   "cell_type": "markdown",
   "id": "1411e93a",
   "metadata": {
    "papermill": {
     "duration": 0.024063,
     "end_time": "2022-03-07T07:06:59.165682",
     "exception": false,
     "start_time": "2022-03-07T07:06:59.141619",
     "status": "completed"
    },
    "tags": []
   },
   "source": [
    "The abs() function returns the absolute value of the specified number."
   ]
  },
  {
   "cell_type": "markdown",
   "id": "f05cab91",
   "metadata": {
    "papermill": {
     "duration": 0.024204,
     "end_time": "2022-03-07T07:06:59.214551",
     "exception": false,
     "start_time": "2022-03-07T07:06:59.190347",
     "status": "completed"
    },
    "tags": []
   },
   "source": [
    "# Obtain the IQR value for the points column"
   ]
  },
  {
   "cell_type": "code",
   "execution_count": 11,
   "id": "ad3d844c",
   "metadata": {
    "execution": {
     "iopub.execute_input": "2022-03-07T07:06:59.269388Z",
     "iopub.status.busy": "2022-03-07T07:06:59.268589Z",
     "iopub.status.idle": "2022-03-07T07:06:59.275547Z",
     "shell.execute_reply": "2022-03-07T07:06:59.276107Z",
     "shell.execute_reply.started": "2022-03-07T07:03:06.635106Z"
    },
    "papermill": {
     "duration": 0.036724,
     "end_time": "2022-03-07T07:06:59.276279",
     "exception": false,
     "start_time": "2022-03-07T07:06:59.239555",
     "status": "completed"
    },
    "tags": []
   },
   "outputs": [
    {
     "data": {
      "text/plain": [
       "4"
      ]
     },
     "execution_count": 11,
     "metadata": {},
     "output_type": "execute_result"
    }
   ],
   "source": [
    "from scipy.stats import iqr \n",
    "iqr(data['points'],axis=0, interpolation='higher') "
   ]
  },
  {
   "cell_type": "markdown",
   "id": "71430469",
   "metadata": {
    "papermill": {
     "duration": 0.024809,
     "end_time": "2022-03-07T07:06:59.326910",
     "exception": false,
     "start_time": "2022-03-07T07:06:59.302101",
     "status": "completed"
    },
    "tags": []
   },
   "source": [
    "The Interquartile range (IQR) is the difference between the 75th and 25th percentile of the data. It is a \n",
    "measure of the dispersion similar to standard deviation or variance, but is much more robust against outliers"
   ]
  }
 ],
 "metadata": {
  "kernelspec": {
   "display_name": "Python 3",
   "language": "python",
   "name": "python3"
  },
  "language_info": {
   "codemirror_mode": {
    "name": "ipython",
    "version": 3
   },
   "file_extension": ".py",
   "mimetype": "text/x-python",
   "name": "python",
   "nbconvert_exporter": "python",
   "pygments_lexer": "ipython3",
   "version": "3.7.12"
  },
  "papermill": {
   "default_parameters": {},
   "duration": 14.629558,
   "end_time": "2022-03-07T07:07:00.064004",
   "environment_variables": {},
   "exception": null,
   "input_path": "__notebook__.ipynb",
   "output_path": "__notebook__.ipynb",
   "parameters": {},
   "start_time": "2022-03-07T07:06:45.434446",
   "version": "2.3.3"
  }
 },
 "nbformat": 4,
 "nbformat_minor": 5
}
